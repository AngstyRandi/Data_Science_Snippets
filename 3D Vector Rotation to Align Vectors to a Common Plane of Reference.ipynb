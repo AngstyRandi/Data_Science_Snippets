{
 "cells": [
  {
   "cell_type": "markdown",
   "metadata": {},
   "source": [
    "# Documentation\n",
    "Author: Randi Ang\n",
    "\n",
    "The goal is to align vector readings (X-Y-Z axes) readings from an accelerometer (values in m/s^2) to a common plane of reference (in this case the Earth) using orientation information from the gyroscope (values in degrees). The gimbal point would be at the point of origin (0,0,0). This method uses 3D matrix rotation to find the rotated coordinates using the original XYZ values and rotation values (Pitch-Roll-Yaw).\n",
    "\n",
    "Phone orientation:\n",
    "1. Azimuth (Yaw): The direction (north/south/east/west) the device is pointing. 0 is magnetic north.\n",
    "\n",
    "2. Pitch: The top-to-bottom tilt of the device. 0 is flat, levelled to the ground, screen facing up. \n",
    "\n",
    "3. Roll: The left-to-right tilt of the device. 0 is flat, levelled to the ground, screen facing up.\n",
    "\n",
    "4. X axis: short side (width of phone) --> +ve value (move right); -ve values (move left)\n",
    "\n",
    "5. Y axis: long side (length of phone) --> +ve value (move front); -ve values (move back)\n",
    "\n",
    "6. Z axis: front and back side of the phone --> +ve value (move up); -ve values (move down)\n",
    "\n",
    "A change in the +ve or -ve values represents both a change in direction and magnitude of acceleration\n",
    "\n",
    "It is recommended to take the linear acceleration values by default, which would remove the effect of gravity. If the device is orientated to a neutral position on a perfectly levelled surface, gravity would apply a relatively constant acceleration of +9.8m/s^2 on the z-axis.\n",
    "\n",
    "This formula does not make adjustments for gravity. However, this may be adjusted for by taking the \"Rotated-Z minus 9.8\" (Z3 - 9.8).\n",
    "Earth's gravity at the Poles = 9.832 m/s^2\n",
    "Earth's gravity at the Equator = 9.789 m/s^2\n",
    "\n",
    "At this stage we're not sure what is the sensitivity involved, so we'll use a constant of 9.8 m/s^2. But if you want a better accuracy for SG (which is near the equator), a constant of 9.789 m/s^2 should give a more accurate reading.\n",
    "\n",
    "For iOS devices, the acceleration on the X-Y-Z axes are given in Gs. \n",
    "1 g = 9.80665 m/s^2\n",
    "\n",
    "## References\n",
    "https://keisan.casio.com/exec/system/15362817755710\n",
    "https://www.universetoday.com/26775/gravity-of-the-earth/"
   ]
  },
  {
   "cell_type": "code",
   "execution_count": 1,
   "metadata": {},
   "outputs": [],
   "source": [
    "# Import Library\n",
    "import numpy as np\n",
    "import pandas as pd"
   ]
  },
  {
   "cell_type": "code",
   "execution_count": 2,
   "metadata": {},
   "outputs": [
    {
     "data": {
      "text/html": [
       "<div>\n",
       "<style scoped>\n",
       "    .dataframe tbody tr th:only-of-type {\n",
       "        vertical-align: middle;\n",
       "    }\n",
       "\n",
       "    .dataframe tbody tr th {\n",
       "        vertical-align: top;\n",
       "    }\n",
       "\n",
       "    .dataframe thead th {\n",
       "        text-align: right;\n",
       "    }\n",
       "</style>\n",
       "<table border=\"1\" class=\"dataframe\">\n",
       "  <thead>\n",
       "    <tr style=\"text-align: right;\">\n",
       "      <th></th>\n",
       "      <th>X</th>\n",
       "      <th>Y</th>\n",
       "      <th>Z</th>\n",
       "      <th>Pitch</th>\n",
       "      <th>Roll</th>\n",
       "      <th>Azimuth</th>\n",
       "    </tr>\n",
       "  </thead>\n",
       "  <tbody>\n",
       "    <tr>\n",
       "      <th>0</th>\n",
       "      <td>10</td>\n",
       "      <td>1</td>\n",
       "      <td>5</td>\n",
       "      <td>90</td>\n",
       "      <td>0</td>\n",
       "      <td>0</td>\n",
       "    </tr>\n",
       "    <tr>\n",
       "      <th>1</th>\n",
       "      <td>10</td>\n",
       "      <td>1</td>\n",
       "      <td>5</td>\n",
       "      <td>0</td>\n",
       "      <td>90</td>\n",
       "      <td>0</td>\n",
       "    </tr>\n",
       "    <tr>\n",
       "      <th>2</th>\n",
       "      <td>10</td>\n",
       "      <td>1</td>\n",
       "      <td>5</td>\n",
       "      <td>0</td>\n",
       "      <td>0</td>\n",
       "      <td>90</td>\n",
       "    </tr>\n",
       "    <tr>\n",
       "      <th>3</th>\n",
       "      <td>10</td>\n",
       "      <td>1</td>\n",
       "      <td>5</td>\n",
       "      <td>90</td>\n",
       "      <td>90</td>\n",
       "      <td>90</td>\n",
       "    </tr>\n",
       "  </tbody>\n",
       "</table>\n",
       "</div>"
      ],
      "text/plain": [
       "    X  Y  Z  Pitch  Roll  Azimuth\n",
       "0  10  1  5     90     0        0\n",
       "1  10  1  5      0    90        0\n",
       "2  10  1  5      0     0       90\n",
       "3  10  1  5     90    90       90"
      ]
     },
     "execution_count": 2,
     "metadata": {},
     "output_type": "execute_result"
    }
   ],
   "source": [
    "# Initialise Set-Up\n",
    "df = pd.DataFrame(\n",
    "    [\n",
    "        (10,  1, 5, 90, 0, 0),\n",
    "        (10,  1, 5, 0, 90, 0),\n",
    "        (10,  1, 5, 0, 0, 90),\n",
    "        (10,  1, 5, 90, 90, 90)\n",
    "    ],\n",
    "    columns=['X', 'Y', 'Z', 'Pitch', 'Roll', 'Azimuth']\n",
    ")\n",
    "df.head()"
   ]
  },
  {
   "cell_type": "code",
   "execution_count": 3,
   "metadata": {},
   "outputs": [
    {
     "data": {
      "text/plain": [
       "X          int64\n",
       "Y          int64\n",
       "Z          int64\n",
       "Pitch      int64\n",
       "Roll       int64\n",
       "Azimuth    int64\n",
       "dtype: object"
      ]
     },
     "execution_count": 3,
     "metadata": {},
     "output_type": "execute_result"
    }
   ],
   "source": [
    "# Inspect data type\n",
    "# In reality the xyz coordinate values and Pitch-Roll-Azimuth values would be floats not integers\n",
    "df.dtypes"
   ]
  },
  {
   "cell_type": "code",
   "execution_count": 4,
   "metadata": {},
   "outputs": [],
   "source": [
    "# Step 1\n",
    "# Define function\n",
    "\n",
    "def rotationCorrection(X0 = 0, Y0 = 0, Z0 = 0, Pitch = 0, Roll = 0, Azimuth = 0):\n",
    "    # The goal is to realign the X-Y-Z axes to a gimbal point at (0,0,0)\n",
    "    # with the device perfectly levelled  and oriented correctly to the ground\n",
    "    # this function is designed to work with dataframes\n",
    "    \n",
    "    # Key packages used:\n",
    "    # Pandas as pd\n",
    "    # Numpy as np\n",
    "    \n",
    "    # Input Variables\n",
    "    # X0 = orginal x coordinate value (if values are from Android accelerometer, values are in m/s^2)\n",
    "    # Y0 = orginal Y coordinate value (if values are from Android accelerometer, values are in m/s^2)\n",
    "    # Z0 = orginal Z coordinate value (if values are from Android accelerometer, values are in m/s^2)\n",
    "    # Pitch = Rotation about x-axis in degrees from gyroscope\n",
    "    # Roll = Rotation about y-axis in degrees from gyroscope\n",
    "    # Azimuth (aka Yaw) = Rotation about z-axis in degrees from gyroscope\n",
    "    \n",
    "    # Notes:\n",
    "    # Coordinate values from X-Y-Z axes must be on the same scale\n",
    "    # Rotation values (pitch, roll, azimuth) must be on the same scale\n",
    "    # All values are required, though a value of 0 (0 acceleration and/or rotation) by default\n",
    "    \n",
    "    # Reverse Angles in Degrees\n",
    "    # subsequent functions require values to be in radians format so a conversion is required\n",
    "    alpha = np.radians(-Pitch) \n",
    "    beta = np.radians(-Roll)\n",
    "    delta = np.radians(-Azimuth)\n",
    "    \n",
    "    # Rotation Sequence: X --> Y --> Z\n",
    "    \n",
    "    # Rotation about X-Axis (Pitch)\n",
    "    X1 = X0 # Optional; for clarity sake, possible to remove to reduce memory requirements\n",
    "    Y1 = np.cos(alpha) * Y0 - np.sin(alpha) * Z0\n",
    "    Z1 = np.sin(alpha) * Y0 + np.cos(alpha) *Z0\n",
    "    \n",
    "    # Rotation about Y-Axis (Roll)\n",
    "    X2 = np.cos(beta) * X1 + np.sin(beta) * Z1 # Alt form (less memory): np.cos(beta) * X0 + np.sin(beta) * Z1\n",
    "    Y2 = Y1 # Optional; for clarity sake, possible to remove to reduce memory requirements\n",
    "    Z2 = -np.sin(beta) * X1 + np.cos(beta) * Z1 # Alt form (less memory): -np.sin(beta) * X0 + np.cos(beta) * Z1\n",
    "    \n",
    "    # Rotation about Z-Axis (Azimuth)\n",
    "    X3 = np.cos(delta) * X2 - np.sin(delta) * Y2 # Alt form (less memory): np.cos(delta) * X2 - np.sin(delta) * Y1\n",
    "    Y3 = np.sin(delta) * X2 + np.cos(delta) * Y2 # Alt form (less memory): np.sin(delta) * X2 + cos(delta) * Y1\n",
    "    Z3 = Z2 # Optional; for clarity sake, possible to remove to reduce memory requirements\n",
    "    \n",
    "    # Return rotated values as an array\n",
    "    rotatedval_complete = np.array((X3,Y3,Z3))\n",
    "    \n",
    "    return rotatedval_complete"
   ]
  },
  {
   "cell_type": "code",
   "execution_count": 5,
   "metadata": {},
   "outputs": [
    {
     "data": {
      "text/plain": [
       "array([[10., -5.],\n",
       "       [ 5.,  1.],\n",
       "       [-1., 10.]])"
      ]
     },
     "execution_count": 5,
     "metadata": {},
     "output_type": "execute_result"
    }
   ],
   "source": [
    "# Step 2\n",
    "# Calculate the rotated values\n",
    "\n",
    "# DO NOT CHANGE THE INDEX OF THE DATAFRAME WHEN PERFORMING THIS STEP OR THE CELLS WOULD BE MAPPED WRONGLY!!!!\n",
    "\n",
    "# Get output of rotated values as an array\n",
    "rotatedVal_array = rotationCorrection(X0 = df['X'], Y0 = df['Y'], Z0 = df['Z'], Pitch = df['Pitch'], Roll = df['Roll'], Azimuth = df['Azimuth'])\n",
    "\n",
    "# Test results (Diagnostic Test only)\n",
    "rotatedVal_array[0:3,0:2]"
   ]
  },
  {
   "cell_type": "code",
   "execution_count": 6,
   "metadata": {},
   "outputs": [
    {
     "data": {
      "text/html": [
       "<div>\n",
       "<style scoped>\n",
       "    .dataframe tbody tr th:only-of-type {\n",
       "        vertical-align: middle;\n",
       "    }\n",
       "\n",
       "    .dataframe tbody tr th {\n",
       "        vertical-align: top;\n",
       "    }\n",
       "\n",
       "    .dataframe thead th {\n",
       "        text-align: right;\n",
       "    }\n",
       "</style>\n",
       "<table border=\"1\" class=\"dataframe\">\n",
       "  <thead>\n",
       "    <tr style=\"text-align: right;\">\n",
       "      <th></th>\n",
       "      <th>X</th>\n",
       "      <th>Y</th>\n",
       "      <th>Z</th>\n",
       "      <th>Pitch</th>\n",
       "      <th>Roll</th>\n",
       "      <th>Azimuth</th>\n",
       "      <th>Rotated-X</th>\n",
       "      <th>Rotated-Y</th>\n",
       "      <th>Rotated-Z</th>\n",
       "    </tr>\n",
       "  </thead>\n",
       "  <tbody>\n",
       "    <tr>\n",
       "      <th>0</th>\n",
       "      <td>10</td>\n",
       "      <td>1</td>\n",
       "      <td>5</td>\n",
       "      <td>90</td>\n",
       "      <td>0</td>\n",
       "      <td>0</td>\n",
       "      <td>10.0</td>\n",
       "      <td>5.0</td>\n",
       "      <td>-1.0</td>\n",
       "    </tr>\n",
       "    <tr>\n",
       "      <th>1</th>\n",
       "      <td>10</td>\n",
       "      <td>1</td>\n",
       "      <td>5</td>\n",
       "      <td>0</td>\n",
       "      <td>90</td>\n",
       "      <td>0</td>\n",
       "      <td>-5.0</td>\n",
       "      <td>1.0</td>\n",
       "      <td>10.0</td>\n",
       "    </tr>\n",
       "    <tr>\n",
       "      <th>2</th>\n",
       "      <td>10</td>\n",
       "      <td>1</td>\n",
       "      <td>5</td>\n",
       "      <td>0</td>\n",
       "      <td>0</td>\n",
       "      <td>90</td>\n",
       "      <td>1.0</td>\n",
       "      <td>-10.0</td>\n",
       "      <td>5.0</td>\n",
       "    </tr>\n",
       "    <tr>\n",
       "      <th>3</th>\n",
       "      <td>10</td>\n",
       "      <td>1</td>\n",
       "      <td>5</td>\n",
       "      <td>90</td>\n",
       "      <td>90</td>\n",
       "      <td>90</td>\n",
       "      <td>5.0</td>\n",
       "      <td>-1.0</td>\n",
       "      <td>10.0</td>\n",
       "    </tr>\n",
       "  </tbody>\n",
       "</table>\n",
       "</div>"
      ],
      "text/plain": [
       "    X  Y  Z  Pitch  Roll  Azimuth  Rotated-X  Rotated-Y  Rotated-Z\n",
       "0  10  1  5     90     0        0       10.0        5.0       -1.0\n",
       "1  10  1  5      0    90        0       -5.0        1.0       10.0\n",
       "2  10  1  5      0     0       90        1.0      -10.0        5.0\n",
       "3  10  1  5     90    90       90        5.0       -1.0       10.0"
      ]
     },
     "execution_count": 6,
     "metadata": {},
     "output_type": "execute_result"
    }
   ],
   "source": [
    "# Step 3\n",
    "# Add rotated values in array format to data frame\n",
    "\n",
    "# DO NOT CHANGE THE INDEX OF THE DATAFRAME WHEN PERFORMING THIS STEP OR THE CELLS WOULD BE MAPPED WRONGLY!!!!\n",
    "\n",
    "df[\"Rotated-X\"] = rotatedVal_array[0]\n",
    "df[\"Rotated-Y\"] = rotatedVal_array[1]\n",
    "df[\"Rotated-Z\"] = rotatedVal_array[2]\n",
    "\n",
    "# Delete rotatedVal_array to save memory as we won't be using it anymore\n",
    "del rotatedVal_array\n",
    "\n",
    "# Inspect Dataframe to check if rotated values has been added (Diagnostic Test only)\n",
    "df.head()"
   ]
  },
  {
   "cell_type": "code",
   "execution_count": 7,
   "metadata": {},
   "outputs": [
    {
     "data": {
      "text/plain": [
       "X              int64\n",
       "Y              int64\n",
       "Z              int64\n",
       "Pitch          int64\n",
       "Roll           int64\n",
       "Azimuth        int64\n",
       "Rotated-X    float64\n",
       "Rotated-Y    float64\n",
       "Rotated-Z    float64\n",
       "dtype: object"
      ]
     },
     "execution_count": 7,
     "metadata": {},
     "output_type": "execute_result"
    }
   ],
   "source": [
    "# Inspect data type of newly added values in dataframe\n",
    "# In reality the xyz coordinate values and Pitch-Roll-Azimuth values would be floats not integers\n",
    "df.dtypes"
   ]
  },
  {
   "cell_type": "markdown",
   "metadata": {},
   "source": [
    "# End"
   ]
  },
  {
   "cell_type": "code",
   "execution_count": null,
   "metadata": {},
   "outputs": [],
   "source": []
  }
 ],
 "metadata": {
  "kernelspec": {
   "display_name": "Python 3",
   "language": "python",
   "name": "python3"
  },
  "language_info": {
   "codemirror_mode": {
    "name": "ipython",
    "version": 3
   },
   "file_extension": ".py",
   "mimetype": "text/x-python",
   "name": "python",
   "nbconvert_exporter": "python",
   "pygments_lexer": "ipython3",
   "version": "3.7.3"
  }
 },
 "nbformat": 4,
 "nbformat_minor": 2
}
